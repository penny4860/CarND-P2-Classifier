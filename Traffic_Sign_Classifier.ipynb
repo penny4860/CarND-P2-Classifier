{
 "cells": [
  {
   "cell_type": "markdown",
   "metadata": {},
   "source": [
    "# Self-Driving Car Engineer Nanodegree\n",
    "\n",
    "## Deep Learning\n",
    "\n",
    "## Project: Build a Traffic Sign Recognition Classifier\n",
    "\n",
    "In this notebook, a template is provided for you to implement your functionality in stages, which is required to successfully complete this project. If additional code is required that cannot be included in the notebook, be sure that the Python code is successfully imported and included in your submission if necessary. \n",
    "\n",
    "> **Note**: Once you have completed all of the code implementations, you need to finalize your work by exporting the iPython Notebook as an HTML document. Before exporting the notebook to html, all of the code cells need to have been run so that reviewers can see the final implementation and output. You can then export the notebook by using the menu above and navigating to  \\n\",\n",
    "    \"**File -> Download as -> HTML (.html)**. Include the finished document along with this notebook as your submission. \n",
    "\n",
    "In addition to implementing code, there is a writeup to complete. The writeup should be completed in a separate file, which can be either a markdown file or a pdf document. There is a [write up template](https://github.com/udacity/CarND-Traffic-Sign-Classifier-Project/blob/master/writeup_template.md) that can be used to guide the writing process. Completing the code template and writeup template will cover all of the [rubric points](https://review.udacity.com/#!/rubrics/481/view) for this project.\n",
    "\n",
    "The [rubric](https://review.udacity.com/#!/rubrics/481/view) contains \"Stand Out Suggestions\" for enhancing the project beyond the minimum requirements. The stand out suggestions are optional. If you decide to pursue the \"stand out suggestions\", you can include the code in this Ipython notebook and also discuss the results in the writeup file.\n",
    "\n",
    "\n",
    ">**Note:** Code and Markdown cells can be executed using the **Shift + Enter** keyboard shortcut. In addition, Markdown cells can be edited by typically double-clicking the cell to enter edit mode."
   ]
  },
  {
   "cell_type": "markdown",
   "metadata": {},
   "source": [
    "---\n",
    "## Step 0: Load The Data"
   ]
  },
  {
   "cell_type": "code",
   "execution_count": 6,
   "metadata": {},
   "outputs": [],
   "source": [
    "# Load pickled data\n",
    "import pickle\n",
    "\n",
    "# TODO: Fill this in based on where you saved the training and testing data\n",
    "\n",
    "training_file = \"dataset/train.p\"\n",
    "validation_file= \"dataset/valid.p\"\n",
    "testing_file = \"dataset/test.p\"\n",
    "\n",
    "with open(training_file, mode='rb') as f:\n",
    "    train = pickle.load(f)\n",
    "with open(validation_file, mode='rb') as f:\n",
    "    valid = pickle.load(f)\n",
    "with open(testing_file, mode='rb') as f:\n",
    "    test = pickle.load(f)\n",
    "    \n",
    "X_train, y_train = train['features'], train['labels']\n",
    "X_valid, y_valid = valid['features'], valid['labels']\n",
    "X_test, y_test = test['features'], test['labels']"
   ]
  },
  {
   "cell_type": "code",
   "execution_count": 7,
   "metadata": {},
   "outputs": [
    {
     "name": "stdout",
     "output_type": "stream",
     "text": [
      "(34799, 32, 32, 3) (34799,)\n",
      "(4410, 32, 32, 3) (4410,)\n",
      "(12630, 32, 32, 3) (12630,)\n"
     ]
    }
   ],
   "source": [
    "print(X_train.shape, y_train.shape)\n",
    "print(X_valid.shape, y_valid.shape)\n",
    "print(X_test.shape, y_test.shape)"
   ]
  },
  {
   "cell_type": "markdown",
   "metadata": {},
   "source": [
    "---\n",
    "\n",
    "## Step 1: Dataset Summary & Exploration\n",
    "\n",
    "The pickled data is a dictionary with 4 key/value pairs:\n",
    "\n",
    "- `'features'` is a 4D array containing raw pixel data of the traffic sign images, (num examples, width, height, channels).\n",
    "- `'labels'` is a 1D array containing the label/class id of the traffic sign. The file `signnames.csv` contains id -> name mappings for each id.\n",
    "- `'sizes'` is a list containing tuples, (width, height) representing the original width and height the image.\n",
    "- `'coords'` is a list containing tuples, (x1, y1, x2, y2) representing coordinates of a bounding box around the sign in the image. **THESE COORDINATES ASSUME THE ORIGINAL IMAGE. THE PICKLED DATA CONTAINS RESIZED VERSIONS (32 by 32) OF THESE IMAGES**\n",
    "\n",
    "Complete the basic data summary below. Use python, numpy and/or pandas methods to calculate the data summary rather than hard coding the results. For example, the [pandas shape method](http://pandas.pydata.org/pandas-docs/stable/generated/pandas.DataFrame.shape.html) might be useful for calculating some of the summary results. "
   ]
  },
  {
   "cell_type": "markdown",
   "metadata": {},
   "source": [
    "### Provide a Basic Summary of the Data Set Using Python, Numpy and/or Pandas"
   ]
  },
  {
   "cell_type": "code",
   "execution_count": 5,
   "metadata": {},
   "outputs": [
    {
     "name": "stdout",
     "output_type": "stream",
     "text": [
      "Number of training examples = 34799\n",
      "Number of testing examples = 12630\n",
      "Image data shape = (32, 32, 3)\n",
      "Number of classes = 43\n"
     ]
    }
   ],
   "source": [
    "### Replace each question mark with the appropriate value. \n",
    "### Use python, pandas or numpy methods rather than hard coding the results\n",
    "import numpy as np\n",
    "\n",
    "# TODO: Number of training examples\n",
    "n_train = len(X_train)\n",
    "\n",
    "# TODO: Number of validation examples\n",
    "n_validation = len(X_valid)\n",
    "\n",
    "# TODO: Number of testing examples.\n",
    "n_test = len(X_test)\n",
    "\n",
    "# TODO: What's the shape of an traffic sign image?\n",
    "image_shape = X_train.shape[1:]\n",
    "\n",
    "# TODO: How many unique classes/labels there are in the dataset.\n",
    "n_classes = len(np.unique(y_train))\n",
    "\n",
    "print(\"Number of training examples =\", n_train)\n",
    "print(\"Number of testing examples =\", n_test)\n",
    "print(\"Image data shape =\", image_shape)\n",
    "print(\"Number of classes =\", n_classes)"
   ]
  },
  {
   "cell_type": "markdown",
   "metadata": {},
   "source": [
    "### Include an exploratory visualization of the dataset"
   ]
  },
  {
   "cell_type": "markdown",
   "metadata": {},
   "source": [
    "Visualize the German Traffic Signs Dataset using the pickled file(s). This is open ended, suggestions include: plotting traffic sign images, plotting the count of each sign, etc. \n",
    "\n",
    "The [Matplotlib](http://matplotlib.org/) [examples](http://matplotlib.org/examples/index.html) and [gallery](http://matplotlib.org/gallery.html) pages are a great resource for doing visualizations in Python.\n",
    "\n",
    "**NOTE:** It's recommended you start with something simple first. If you wish to do more, come back to it after you've completed the rest of the sections. It can be interesting to look at the distribution of classes in the training, validation and test set. Is the distribution the same? Are there more examples of some classes than others?"
   ]
  },
  {
   "cell_type": "code",
   "execution_count": 7,
   "metadata": {
    "collapsed": true
   },
   "outputs": [],
   "source": [
    "### Data exploration visualization code goes here.\n",
    "### Feel free to use as many code cells as needed.\n",
    "import matplotlib.pyplot as plt\n",
    "# Visualizations will be shown in the notebook.\n",
    "%matplotlib inline"
   ]
  },
  {
   "cell_type": "code",
   "execution_count": 16,
   "metadata": {},
   "outputs": [
    {
     "data": {
      "text/plain": [
       "<matplotlib.text.Text at 0x7745780>"
      ]
     },
     "execution_count": 16,
     "metadata": {},
     "output_type": "execute_result"
    },
    {
     "data": {
      "image/png": "[encoded data removed]",
      "text/plain": [
       "<matplotlib.figure.Figure at 0x76eb470>"
      ]
     },
     "metadata": {},
     "output_type": "display_data"
    }
   ],
   "source": [
    "plt.imshow(X_train[0])\n",
    "plt.title(y_train[0])"
   ]
  },
  {
   "cell_type": "code",
   "execution_count": 1,
   "metadata": {
    "collapsed": true
   },
   "outputs": [],
   "source": [
    "# Todo 1: image for each label\n",
    "# Todo 2: number of datasets per each label"
   ]
  },
  {
   "cell_type": "markdown",
   "metadata": {},
   "source": [
    "----\n",
    "\n",
    "## Step 2: Design and Test a Model Architecture\n",
    "\n",
    "Design and implement a deep learning model that learns to recognize traffic signs. Train and test your model on the [German Traffic Sign Dataset](http://benchmark.ini.rub.de/?section=gtsrb&subsection=dataset).\n",
    "\n",
    "The LeNet-5 implementation shown in the [classroom](https://classroom.udacity.com/nanodegrees/nd013/parts/fbf77062-5703-404e-b60c-95b78b2f3f9e/modules/6df7ae49-c61c-4bb2-a23e-6527e69209ec/lessons/601ae704-1035-4287-8b11-e2c2716217ad/concepts/d4aca031-508f-4e0b-b493-e7b706120f81) at the end of the CNN lesson is a solid starting point. You'll have to change the number of classes and possibly the preprocessing, but aside from that it's plug and play! \n",
    "\n",
    "With the LeNet-5 solution from the lecture, you should expect a validation set accuracy of about 0.89. To meet specifications, the validation set accuracy will need to be at least 0.93. It is possible to get an even higher accuracy, but 0.93 is the minimum for a successful project submission. \n",
    "\n",
    "There are various aspects to consider when thinking about this problem:\n",
    "\n",
    "- Neural network architecture (is the network over or underfitting?)\n",
    "- Play around preprocessing techniques (normalization, rgb to grayscale, etc)\n",
    "- Number of examples per label (some have more than others).\n",
    "- Generate fake data.\n",
    "\n",
    "Here is an example of a [published baseline model on this problem](http://yann.lecun.com/exdb/publis/pdf/sermanet-ijcnn-11.pdf). It's not required to be familiar with the approach used in the paper but, it's good practice to try to read papers like these."
   ]
  },
  {
   "cell_type": "markdown",
   "metadata": {},
   "source": [
    "### Pre-process the Data Set (normalization, grayscale, etc.)"
   ]
  },
  {
   "cell_type": "markdown",
   "metadata": {},
   "source": [
    "Minimally, the image data should be normalized so that the data has mean zero and equal variance. For image data, `(pixel - 128)/ 128` is a quick way to approximately normalize the data and can be used in this project. \n",
    "\n",
    "Other pre-processing steps are optional. You can try different techniques to see if it improves performance. \n",
    "\n",
    "Use the code cell (or multiple code cells, if necessary) to implement the first step of your project."
   ]
  },
  {
   "cell_type": "code",
   "execution_count": 8,
   "metadata": {
    "collapsed": true
   },
   "outputs": [],
   "source": [
    "### Preprocess the data here. It is required to normalize the data. Other preprocessing steps could include \n",
    "### converting to grayscale, etc.\n",
    "### Feel free to use as many code cells as needed.\n",
    "def preprocess(images):\n",
    "    return (images.astype(float) - 128)/128\n",
    "\n",
    "def test_preprocess(preprocessed_images):\n",
    "    assert preprocessed_images.min() >= -1.0\n",
    "    assert preprocessed_images.max() <= +1.0"
   ]
  },
  {
   "cell_type": "code",
   "execution_count": 10,
   "metadata": {},
   "outputs": [
    {
     "name": "stdout",
     "output_type": "stream",
     "text": [
      "0.9921875 -1.0\n"
     ]
    }
   ],
   "source": [
    "import numpy as np\n",
    "\n",
    "X_train_prep = preprocess(X_train)\n",
    "X_test_prep = preprocess(X_test)\n",
    "X_valid_prep = preprocess(X_valid)\n",
    "\n",
    "X_prep = np.concatenate([X_train_prep, X_test_prep, X_valid_prep], axis=0)\n",
    "\n",
    "print(X_prep.max(), X_prep.min())\n",
    "\n",
    "del X_prep"
   ]
  },
  {
   "cell_type": "code",
   "execution_count": 11,
   "metadata": {},
   "outputs": [
    {
     "data": {
      "text/plain": [
       "array([-10,   0,  10])"
      ]
     },
     "execution_count": 11,
     "metadata": {},
     "output_type": "execute_result"
    }
   ],
   "source": [
    "arr = np.array([0, 10, 20])\n",
    "arr - 10"
   ]
  },
  {
   "cell_type": "markdown",
   "metadata": {},
   "source": [
    "### Model Architecture"
   ]
  },
  {
   "cell_type": "code",
   "execution_count": 12,
   "metadata": {
    "collapsed": true
   },
   "outputs": [],
   "source": [
    "### Define your architecture here.\n",
    "### Feel free to use as many code cells as needed.\n",
    "\n"
   ]
  },
  {
   "cell_type": "code",
   "execution_count": 19,
   "metadata": {
    "collapsed": true
   },
   "outputs": [],
   "source": [
    "# -*- coding: utf-8 -*-\n",
    "# code from \"Project/tfremote/src/net/base.py\"\n",
    "\n",
    "import tensorflow as tf\n",
    "from abc import ABCMeta, abstractmethod\n",
    "from sklearn.utils import shuffle\n",
    "\n",
    "\n",
    "class _Model(object):\n",
    "    \n",
    "    __metaclass__ = ABCMeta\n",
    "    \n",
    "    def __init__(self):\n",
    "        # Placeholders\n",
    "        self.X = self._create_input_placeholder()\n",
    "        self.Y = self._create_output_placeholder()\n",
    "        self.is_training = self._create_is_train_placeholder()\n",
    "\n",
    "        # basic operations\n",
    "        self.inference_op = self._create_inference_op()\n",
    "        self.loss_op = self._create_loss_op()\n",
    "        self.accuracy_op = self._create_accuracy_op()\n",
    "\n",
    "        # summary operations        \n",
    "        self.train_summary_op = self._create_train_summary_op()\n",
    "        \n",
    "    @abstractmethod\n",
    "    def _create_input_placeholder(self):\n",
    "        return tf.placeholder(tf.float32, [None, 28, 28, 1], name='input_images')\n",
    "\n",
    "    @abstractmethod\n",
    "    def _create_inference_op(self):\n",
    "        pass\n",
    "\n",
    "    @abstractmethod\n",
    "    def _create_loss_op(self):\n",
    "        one_hot_y = tf.one_hot(self.Y, 10)\n",
    "        return tf.reduce_mean(tf.nn.softmax_cross_entropy_with_logits(logits=self.inference_op, labels=one_hot_y))\n",
    "\n",
    "    def _create_output_placeholder(self):\n",
    "        return tf.placeholder(tf.int64, [None], name='output_labels')\n",
    "\n",
    "    def _create_accuracy_op(self):\n",
    "        is_correct = tf.equal(tf.argmax(self.inference_op, 1), self.Y)\n",
    "        return tf.reduce_mean(tf.cast(is_correct, tf.float32))\n",
    "\n",
    "    def _create_is_train_placeholder(self):\n",
    "        is_training = tf.placeholder_with_default(tf.constant(False, dtype=tf.bool),\n",
    "                                                  shape=(),\n",
    "                                                  name='is_training')\n",
    "        return is_training\n",
    "\n",
    "    def _create_train_summary_op(self):\n",
    "        with tf.name_scope('train_summary'):\n",
    "            summary_loss = tf.summary.scalar('loss', self.loss_op)\n",
    "            # summary_acc = tf.summary.scalar('accuracy', self.accuracy_op)\n",
    "            summary_op = tf.summary.merge([summary_loss], name='train_summary')\n",
    "            return summary_op\n",
    "\n",
    "\n",
    "def train(model, X_train, y_train, X_val, y_val, batch_size=100, n_epoches=5, ckpt=None):\n",
    "\n",
    "    def _run_single_epoch(X_train, y_train, batch_size):\n",
    "        total_cost = 0\n",
    "        for offset, end in get_batch_index(len(X_train), batch_size):\n",
    "            _, cost_val, summary_result = sess.run([optimizer, model.loss_op, model.train_summary_op],\n",
    "                                   feed_dict={model.X: X_train[offset:end],\n",
    "                                              model.Y: y_train[offset:end],\n",
    "                                              model.is_training: True})\n",
    "            total_cost += cost_val\n",
    "            writer.add_summary(summary_result, sess.run(global_step))\n",
    "        return total_cost\n",
    "   \n",
    "    def _save(sess, ckpt, global_step):\n",
    "        import os\n",
    "        directory = os.path.dirname(ckpt)\n",
    "        if not os.path.exists(directory):\n",
    "            os.mkdir(directory)\n",
    "            \n",
    "        saver = tf.train.Saver()\n",
    "        saver.save(sess, ckpt, global_step=global_step)\n",
    "        # saver.save(sess, 'models/cnn')\n",
    "        # saver.save(sess, 'checkpoint_directory/model_name', global_step=model.global_step)\n",
    "\n",
    "    def _print_cost(epoch, cost, global_step):\n",
    "        print('Epoch: {:3d}, Training Step: {:5d}, Avg. cost ={:.3f}'.format(epoch + 1, global_step, cost))\n",
    "        \n",
    "    def _write_value_to_writer(value, writer, tag):\n",
    "        value_obj = tf.Summary.Value(tag=tag, simple_value=value)\n",
    "        summary_result = tf.Summary(value=[value_obj])\n",
    "        writer.add_summary(summary_result, sess.run(global_step))\n",
    "\n",
    "    \n",
    "    global_step = tf.Variable(0, dtype=tf.int32, trainable=False, name='global_step')\n",
    "    optimizer = tf.train.AdamOptimizer(0.001).minimize(model.loss_op, global_step=global_step)\n",
    "    init = tf.global_variables_initializer()\n",
    "\n",
    "    with tf.Session() as sess:\n",
    "        sess.run(init)\n",
    "        total_batch = get_n_batches(len(X_train), batch_size)\n",
    "        \n",
    "        # tensorboard --logdir=\"./graphs\" --port 6006\n",
    "        writer = tf.summary.FileWriter('./graphs/train', sess.graph)\n",
    "        writer_val = tf.summary.FileWriter('./graphs/valid', sess.graph)\n",
    "        \n",
    "        for epoch in range(n_epoches):\n",
    "            # 1. shuffle\n",
    "            X_train, y_train = shuffle(X_train, y_train)\n",
    "            \n",
    "            # 2. run training\n",
    "            cost = _run_single_epoch(X_train, y_train, batch_size)\n",
    "            _print_cost(epoch, cost / total_batch, sess.run(global_step))\n",
    "            \n",
    "            # 3. evaluation accuracy\n",
    "            train_accuracy = evaluate(model, X_train, y_train, sess, batch_size=batch_size)\n",
    "            valid_accuracy = evaluate(model, X_val, y_val, sess, batch_size=batch_size)\n",
    "\n",
    "            # 4. logging\n",
    "            _write_value_to_writer(train_accuracy, writer, \"accuracy\")\n",
    "            _write_value_to_writer(valid_accuracy, writer_val, \"accuracy\")\n",
    "\n",
    "            if ckpt:\n",
    "                _save(sess, ckpt, global_step)\n",
    "        \n",
    "        print('Training done')\n",
    "        writer.close()\n",
    "\n",
    "def evaluate(model, images, labels, session=None, ckpt=None, batch_size=100):\n",
    "    \"\"\"\n",
    "    ckpt : str\n",
    "        ckpt directory or ckpt file\n",
    "    \"\"\"\n",
    "    def _evaluate(sess):\n",
    "        if ckpt:\n",
    "            saver = tf.train.Saver()\n",
    "            saver.restore(sess, ckpt)\n",
    "\n",
    "        accuracy_value = 0\n",
    "        for offset, end in get_batch_index(len(images), batch_size):\n",
    "            accuracy_value += sess.run(model.accuracy_op,\n",
    "                                       feed_dict={model.X: images[offset:end],\n",
    "                                                  model.Y: labels[offset:end],\n",
    "                                                  model.is_training: False})\n",
    "            \n",
    "        accuracy_value = accuracy_value / get_n_batches(len(images), batch_size)\n",
    "        return accuracy_value\n",
    "\n",
    "    if session:\n",
    "        accuracy = _evaluate(session)\n",
    "    else:\n",
    "        sess = tf.Session()\n",
    "        accuracy = _evaluate(sess)\n",
    "        sess.close()\n",
    "        \n",
    "    print('Accuracy: {:.4f}'.format(accuracy))\n",
    "    return accuracy\n",
    "\n",
    "\n",
    "def get_batch_index(num_examples, batch_size=100):\n",
    "    for offset in range(0, num_examples, batch_size):\n",
    "        end = offset + batch_size\n",
    "        if end > num_examples:\n",
    "            break\n",
    "        yield (offset, end)\n",
    "\n",
    "def get_n_batches(num_examples, batch_size=100):\n",
    "    return int(num_examples / batch_size)\n"
   ]
  },
  {
   "cell_type": "code",
   "execution_count": 15,
   "metadata": {
    "collapsed": true
   },
   "outputs": [],
   "source": [
    "import tensorflow.contrib.slim as slim\n",
    "class SignModelBn(_Model):\n",
    "    def _create_input_placeholder(self):\n",
    "        return tf.placeholder(tf.float32, [None, 32, 32, 3])\n",
    "\n",
    "    def _create_inference_op(self):\n",
    "        batch_norm_params = {'is_training': self.is_training,\n",
    "                             'decay': 0.9,\n",
    "                             'updates_collections': None}\n",
    "\n",
    "        with slim.arg_scope([slim.conv2d, slim.fully_connected],\n",
    "                            normalizer_fn=slim.batch_norm,\n",
    "                            normalizer_params=batch_norm_params):\n",
    "\n",
    "            net = slim.conv2d(self.X, 32, [3, 3], scope='conv1_1')\n",
    "            net = slim.conv2d(net, 32, [3, 3], scope='conv1_2')\n",
    "            net = slim.max_pool2d(net, [2, 2], scope='pool1')\n",
    "\n",
    "            net = slim.conv2d(net, 64, [3, 3], scope='conv2_1')\n",
    "            net = slim.conv2d(net, 64, [3, 3], scope='conv2_2')\n",
    "            net = slim.max_pool2d(net, [2, 2], scope='pool2')\n",
    "            net = slim.flatten(net, scope='flatten3')\n",
    "\n",
    "            net = slim.fully_connected(net, 256, scope='fc3')\n",
    "            net = slim.fully_connected(net, 43, activation_fn=None,\n",
    "                                          normalizer_fn=None, scope='fco')\n",
    "        \n",
    "        return net\n",
    "\n",
    "    def _create_loss_op(self):\n",
    "        one_hot_y = tf.one_hot(self.Y, 43)\n",
    "        return tf.reduce_mean(tf.nn.softmax_cross_entropy_with_logits(logits=self.inference_op, labels=one_hot_y))\n"
   ]
  },
  {
   "cell_type": "markdown",
   "metadata": {},
   "source": [
    "### Train, Validate and Test the Model"
   ]
  },
  {
   "cell_type": "markdown",
   "metadata": {},
   "source": [
    "A validation set can be used to assess how well the model is performing. A low accuracy on the training and validation\n",
    "sets imply underfitting. A high accuracy on the training set but low accuracy on the validation set implies overfitting."
   ]
  },
  {
   "cell_type": "code",
   "execution_count": 54,
   "metadata": {
    "collapsed": true
   },
   "outputs": [],
   "source": [
    "### Train your model here.\n",
    "### Calculate and report the accuracy on the training and validation set.\n",
    "### Once a final model architecture is selected, \n",
    "### the accuracy on the test set should be calculated and reported as well.\n",
    "### Feel free to use as many code cells as needed."
   ]
  },
  {
   "cell_type": "code",
   "execution_count": 17,
   "metadata": {},
   "outputs": [
    {
     "name": "stdout",
     "output_type": "stream",
     "text": [
      "Epoch:   1, Training Step:  1087, Avg. cost =0.284\n",
      "Accuracy: 0.9909\n",
      "Accuracy: 0.9482\n",
      "Epoch:   2, Training Step:  2174, Avg. cost =0.021\n",
      "Accuracy: 0.9943\n",
      "Accuracy: 0.9405\n",
      "Epoch:   3, Training Step:  3261, Avg. cost =0.015\n",
      "Accuracy: 0.9985\n",
      "Accuracy: 0.9694\n",
      "Epoch:   4, Training Step:  4348, Avg. cost =0.012\n",
      "Accuracy: 0.9985\n",
      "Accuracy: 0.9763\n",
      "Epoch:   5, Training Step:  5435, Avg. cost =0.011\n",
      "Accuracy: 0.9982\n",
      "Accuracy: 0.9706\n",
      "Epoch:   6, Training Step:  6522, Avg. cost =0.007\n",
      "Accuracy: 0.9974\n",
      "Accuracy: 0.9608\n",
      "Epoch:   7, Training Step:  7609, Avg. cost =0.007\n",
      "Accuracy: 0.9998\n",
      "Accuracy: 0.9849\n",
      "Epoch:   8, Training Step:  8696, Avg. cost =0.007\n",
      "Accuracy: 0.9997\n",
      "Accuracy: 0.9795\n",
      "Epoch:   9, Training Step:  9783, Avg. cost =0.005\n",
      "Accuracy: 0.9998\n",
      "Accuracy: 0.9742\n",
      "Epoch:  10, Training Step: 10870, Avg. cost =0.004\n",
      "Accuracy: 0.9998\n",
      "Accuracy: 0.9847\n",
      "Epoch:  11, Training Step: 11957, Avg. cost =0.005\n",
      "Accuracy: 0.9997\n",
      "Accuracy: 0.9770\n",
      "Epoch:  12, Training Step: 13044, Avg. cost =0.002\n",
      "Accuracy: 0.9998\n",
      "Accuracy: 0.9802\n",
      "Epoch:  13, Training Step: 14131, Avg. cost =0.005\n",
      "Accuracy: 1.0000\n",
      "Accuracy: 0.9840\n",
      "Epoch:  14, Training Step: 15218, Avg. cost =0.001\n",
      "Accuracy: 0.9962\n",
      "Accuracy: 0.9701\n",
      "Epoch:  15, Training Step: 16305, Avg. cost =0.007\n",
      "Accuracy: 0.9995\n",
      "Accuracy: 0.9681\n",
      "Training done\n"
     ]
    }
   ],
   "source": [
    "\n",
    "# 1. Build operation graph\n",
    "model = SignModelBn()\n",
    "\n",
    "# 2. Training with Training & Validation Dataset\n",
    "train(model, X_train_prep, y_train, X_valid_prep, y_valid, batch_size=32, n_epoches=15, ckpt='ckpts/cnn')\n"
   ]
  },
  {
   "cell_type": "code",
   "execution_count": 23,
   "metadata": {},
   "outputs": [
    {
     "name": "stdout",
     "output_type": "stream",
     "text": [
      "Accuracy: 0.9848\n",
      "Accuracy: 0.9758\n",
      "validation acc = 0.985, test acc = 0.976\n"
     ]
    }
   ],
   "source": [
    "# 3. Evaluate best model on Validation Accuracy on Test Dataset\n",
    "val_acc = evaluate(model, X_valid_prep, y_valid, ckpt='ckpts/cnn-10870')\n",
    "test_acc = evaluate(model, X_test_prep, y_test, ckpt='ckpts/cnn-10870')\n",
    "\n",
    "print(\"validation acc = {:.3f}, test acc = {:.3f}\".format(val_acc, test_acc))"
   ]
  },
  {
   "cell_type": "markdown",
   "metadata": {},
   "source": [
    "---\n",
    "\n",
    "## Step 3: Test a Model on New Images\n",
    "\n",
    "To give yourself more insight into how your model is working, download at least five pictures of German traffic signs from the web and use your model to predict the traffic sign type.\n",
    "\n",
    "You may find `signnames.csv` useful as it contains mappings from the class id (integer) to the actual sign name."
   ]
  },
  {
   "cell_type": "markdown",
   "metadata": {},
   "source": [
    "### Load and Output the Images"
   ]
  },
  {
   "cell_type": "code",
   "execution_count": null,
   "metadata": {
    "collapsed": true
   },
   "outputs": [],
   "source": [
    "### Load the images and plot them here.\n",
    "### Feel free to use as many code cells as needed."
   ]
  },
  {
   "cell_type": "markdown",
   "metadata": {},
   "source": [
    "### Predict the Sign Type for Each Image"
   ]
  },
  {
   "cell_type": "code",
   "execution_count": null,
   "metadata": {
    "collapsed": true
   },
   "outputs": [],
   "source": [
    "### Run the predictions here and use the model to output the prediction for each image.\n",
    "### Make sure to pre-process the images with the same pre-processing pipeline used earlier.\n",
    "### Feel free to use as many code cells as needed."
   ]
  },
  {
   "cell_type": "markdown",
   "metadata": {},
   "source": [
    "### Analyze Performance"
   ]
  },
  {
   "cell_type": "code",
   "execution_count": null,
   "metadata": {
    "collapsed": true
   },
   "outputs": [],
   "source": [
    "### Calculate the accuracy for these 5 new images. \n",
    "### For example, if the model predicted 1 out of 5 signs correctly, it's 20% accurate on these new images."
   ]
  },
  {
   "cell_type": "markdown",
   "metadata": {},
   "source": [
    "### Output Top 5 Softmax Probabilities For Each Image Found on the Web"
   ]
  },
  {
   "cell_type": "markdown",
   "metadata": {},
   "source": [
    "For each of the new images, print out the model's softmax probabilities to show the **certainty** of the model's predictions (limit the output to the top 5 probabilities for each image). [`tf.nn.top_k`](https://www.tensorflow.org/versions/r0.12/api_docs/python/nn.html#top_k) could prove helpful here. \n",
    "\n",
    "The example below demonstrates how tf.nn.top_k can be used to find the top k predictions for each image.\n",
    "\n",
    "`tf.nn.top_k` will return the values and indices (class ids) of the top k predictions. So if k=3, for each sign, it'll return the 3 largest probabilities (out of a possible 43) and the correspoding class ids.\n",
    "\n",
    "Take this numpy array as an example. The values in the array represent predictions. The array contains softmax probabilities for five candidate images with six possible classes. `tk.nn.top_k` is used to choose the three classes with the highest probability:\n",
    "\n",
    "```\n",
    "# (5, 6) array\n",
    "a = np.array([[ 0.24879643,  0.07032244,  0.12641572,  0.34763842,  0.07893497,\n",
    "         0.12789202],\n",
    "       [ 0.28086119,  0.27569815,  0.08594638,  0.0178669 ,  0.18063401,\n",
    "         0.15899337],\n",
    "       [ 0.26076848,  0.23664738,  0.08020603,  0.07001922,  0.1134371 ,\n",
    "         0.23892179],\n",
    "       [ 0.11943333,  0.29198961,  0.02605103,  0.26234032,  0.1351348 ,\n",
    "         0.16505091],\n",
    "       [ 0.09561176,  0.34396535,  0.0643941 ,  0.16240774,  0.24206137,\n",
    "         0.09155967]])\n",
    "```\n",
    "\n",
    "Running it through `sess.run(tf.nn.top_k(tf.constant(a), k=3))` produces:\n",
    "\n",
    "```\n",
    "TopKV2(values=array([[ 0.34763842,  0.24879643,  0.12789202],\n",
    "       [ 0.28086119,  0.27569815,  0.18063401],\n",
    "       [ 0.26076848,  0.23892179,  0.23664738],\n",
    "       [ 0.29198961,  0.26234032,  0.16505091],\n",
    "       [ 0.34396535,  0.24206137,  0.16240774]]), indices=array([[3, 0, 5],\n",
    "       [0, 1, 4],\n",
    "       [0, 5, 1],\n",
    "       [1, 3, 5],\n",
    "       [1, 4, 3]], dtype=int32))\n",
    "```\n",
    "\n",
    "Looking just at the first row we get `[ 0.34763842,  0.24879643,  0.12789202]`, you can confirm these are the 3 largest probabilities in `a`. You'll also notice `[3, 0, 5]` are the corresponding indices."
   ]
  },
  {
   "cell_type": "code",
   "execution_count": null,
   "metadata": {
    "collapsed": true
   },
   "outputs": [],
   "source": [
    "### Print out the top five softmax probabilities for the predictions on the German traffic sign images found on the web. \n",
    "### Feel free to use as many code cells as needed."
   ]
  },
  {
   "cell_type": "markdown",
   "metadata": {},
   "source": [
    "### Project Writeup\n",
    "\n",
    "Once you have completed the code implementation, document your results in a project writeup using this [template](https://github.com/udacity/CarND-Traffic-Sign-Classifier-Project/blob/master/writeup_template.md) as a guide. The writeup can be in a markdown or pdf file. "
   ]
  },
  {
   "cell_type": "markdown",
   "metadata": {},
   "source": [
    "> **Note**: Once you have completed all of the code implementations and successfully answered each question above, you may finalize your work by exporting the iPython Notebook as an HTML document. You can do this by using the menu above and navigating to  \\n\",\n",
    "    \"**File -> Download as -> HTML (.html)**. Include the finished document along with this notebook as your submission."
   ]
  },
  {
   "cell_type": "markdown",
   "metadata": {},
   "source": [
    "---\n",
    "\n",
    "## Step 4 (Optional): Visualize the Neural Network's State with Test Images\n",
    "\n",
    " This Section is not required to complete but acts as an additional excersise for understaning the output of a neural network's weights. While neural networks can be a great learning device they are often referred to as a black box. We can understand what the weights of a neural network look like better by plotting their feature maps. After successfully training your neural network you can see what it's feature maps look like by plotting the output of the network's weight layers in response to a test stimuli image. From these plotted feature maps, it's possible to see what characteristics of an image the network finds interesting. For a sign, maybe the inner network feature maps react with high activation to the sign's boundary outline or to the contrast in the sign's painted symbol.\n",
    "\n",
    " Provided for you below is the function code that allows you to get the visualization output of any tensorflow weight layer you want. The inputs to the function should be a stimuli image, one used during training or a new one you provided, and then the tensorflow variable name that represents the layer's state during the training process, for instance if you wanted to see what the [LeNet lab's](https://classroom.udacity.com/nanodegrees/nd013/parts/fbf77062-5703-404e-b60c-95b78b2f3f9e/modules/6df7ae49-c61c-4bb2-a23e-6527e69209ec/lessons/601ae704-1035-4287-8b11-e2c2716217ad/concepts/d4aca031-508f-4e0b-b493-e7b706120f81) feature maps looked like for it's second convolutional layer you could enter conv2 as the tf_activation variable.\n",
    "\n",
    "For an example of what feature map outputs look like, check out NVIDIA's results in their paper [End-to-End Deep Learning for Self-Driving Cars](https://devblogs.nvidia.com/parallelforall/deep-learning-self-driving-cars/) in the section Visualization of internal CNN State. NVIDIA was able to show that their network's inner weights had high activations to road boundary lines by comparing feature maps from an image with a clear path to one without. Try experimenting with a similar test to show that your trained network's weights are looking for interesting features, whether it's looking at differences in feature maps from images with or without a sign, or even what feature maps look like in a trained network vs a completely untrained one on the same sign image.\n",
    "\n",
    "<figure>\n",
    " <img src=\"visualize_cnn.png\" width=\"380\" alt=\"Combined Image\" />\n",
    " <figcaption>\n",
    " <p></p> \n",
    " <p style=\"text-align: center;\"> Your output should look something like this (above)</p> \n",
    " </figcaption>\n",
    "</figure>\n",
    " <p></p> \n"
   ]
  },
  {
   "cell_type": "code",
   "execution_count": null,
   "metadata": {
    "collapsed": true
   },
   "outputs": [],
   "source": [
    "### Visualize your network's feature maps here.\n",
    "### Feel free to use as many code cells as needed.\n",
    "\n",
    "# image_input: the test image being fed into the network to produce the feature maps\n",
    "# tf_activation: should be a tf variable name used during your training procedure that represents the calculated state of a specific weight layer\n",
    "# activation_min/max: can be used to view the activation contrast in more detail, by default matplot sets min and max to the actual min and max values of the output\n",
    "# plt_num: used to plot out multiple different weight feature map sets on the same block, just extend the plt number for each new feature map entry\n",
    "\n",
    "def outputFeatureMap(image_input, tf_activation, activation_min=-1, activation_max=-1 ,plt_num=1):\n",
    "    # Here make sure to preprocess your image_input in a way your network expects\n",
    "    # with size, normalization, ect if needed\n",
    "    # image_input =\n",
    "    # Note: x should be the same name as your network's tensorflow data placeholder variable\n",
    "    # If you get an error tf_activation is not defined it may be having trouble accessing the variable from inside a function\n",
    "    activation = tf_activation.eval(session=sess,feed_dict={x : image_input})\n",
    "    featuremaps = activation.shape[3]\n",
    "    plt.figure(plt_num, figsize=(15,15))\n",
    "    for featuremap in range(featuremaps):\n",
    "        plt.subplot(6,8, featuremap+1) # sets the number of feature maps to show on each row and column\n",
    "        plt.title('FeatureMap ' + str(featuremap)) # displays the feature map number\n",
    "        if activation_min != -1 & activation_max != -1:\n",
    "            plt.imshow(activation[0,:,:, featuremap], interpolation=\"nearest\", vmin =activation_min, vmax=activation_max, cmap=\"gray\")\n",
    "        elif activation_max != -1:\n",
    "            plt.imshow(activation[0,:,:, featuremap], interpolation=\"nearest\", vmax=activation_max, cmap=\"gray\")\n",
    "        elif activation_min !=-1:\n",
    "            plt.imshow(activation[0,:,:, featuremap], interpolation=\"nearest\", vmin=activation_min, cmap=\"gray\")\n",
    "        else:\n",
    "            plt.imshow(activation[0,:,:, featuremap], interpolation=\"nearest\", cmap=\"gray\")"
   ]
  }
 ],
 "metadata": {
  "anaconda-cloud": {},
  "kernelspec": {
   "display_name": "Python 3",
   "language": "python",
   "name": "python3"
  },
  "language_info": {
   "codemirror_mode": {
    "name": "ipython",
    "version": 3
   },
   "file_extension": ".py",
   "mimetype": "text/x-python",
   "name": "python",
   "nbconvert_exporter": "python",
   "pygments_lexer": "ipython3",
   "version": "3.4.5"
  },
  "widgets": {
   "state": {},
   "version": "1.1.2"
  }
 },
 "nbformat": 4,
 "nbformat_minor": 1
}
